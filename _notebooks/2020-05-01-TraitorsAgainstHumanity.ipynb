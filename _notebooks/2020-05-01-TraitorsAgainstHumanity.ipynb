{
  "nbformat": 4,
  "nbformat_minor": 0,
  "metadata": {
    "colab": {
      "name": "2020-05-01-TraitorsAgainstHumanity",
      "provenance": [],
      "collapsed_sections": [],
      "toc_visible": true,
      "authorship_tag": "ABX9TyMIlq+79RTLJyipQ2zkiKeE"
    },
    "kernelspec": {
      "name": "python3",
      "display_name": "Python 3"
    }
  },
  "cells": [
    {
      "cell_type": "markdown",
      "metadata": {
        "id": "tZPK1VacHn7q",
        "colab_type": "text"
      },
      "source": [
        "Using Forbes API to snag a list of billionaires in US\n",
        "\n"
      ]
    },
    {
      "cell_type": "markdown",
      "metadata": {
        "id": "P0emul1icY9O",
        "colab_type": "text"
      },
      "source": [
        "# Traitors Against Humanity\n",
        "> Identification and tracking of the billionaires ruining the world\n",
        " \n",
        "- toc: true\n",
        "- branch: master\n",
        "- badges: true\n",
        "- comments: true\n",
        "- author: alaughingman\n",
        "- image: images/alaughingman.jpg\n",
        "- categories: [fastpages, jupyter, eattherich, kommunism]"
      ]
    },
    {
      "cell_type": "code",
      "metadata": {
        "id": "g02sphxIPBab",
        "colab_type": "code",
        "outputId": "8a18f43d-c3d6-4720-87e9-e4f2d4c8ca83",
        "colab": {
          "base_uri": "https://localhost:8080/",
          "height": 102
        }
      },
      "source": [
        "#collapse-hide\n",
        "import pandas as pd\n",
        "import altair as alt\n",
        "from fastai.basics import *\n",
        "!pip install requests\n",
        "import requests\n",
        "import json"
      ],
      "execution_count": 1,
      "outputs": [
        {
          "output_type": "stream",
          "text": [
            "Requirement already satisfied: requests in /usr/local/lib/python3.6/dist-packages (2.23.0)\n",
            "Requirement already satisfied: chardet<4,>=3.0.2 in /usr/local/lib/python3.6/dist-packages (from requests) (3.0.4)\n",
            "Requirement already satisfied: certifi>=2017.4.17 in /usr/local/lib/python3.6/dist-packages (from requests) (2020.4.5.1)\n",
            "Requirement already satisfied: urllib3!=1.25.0,!=1.25.1,<1.26,>=1.21.1 in /usr/local/lib/python3.6/dist-packages (from requests) (1.24.3)\n",
            "Requirement already satisfied: idna<3,>=2.5 in /usr/local/lib/python3.6/dist-packages (from requests) (2.9)\n"
          ],
          "name": "stdout"
        }
      ]
    },
    {
      "cell_type": "code",
      "metadata": {
        "id": "vnieCe52H4hb",
        "colab_type": "code",
        "outputId": "e67d672d-94fc-4283-dd62-86dfe25efa83",
        "colab": {
          "base_uri": "https://localhost:8080/",
          "height": 34
        }
      },
      "source": [
        "traitors = requests.get('https://forbes400.herokuapp.com/api/forbes400/getAllBillionaires')\n",
        "print(traitors.status_code)"
      ],
      "execution_count": 3,
      "outputs": [
        {
          "output_type": "stream",
          "text": [
            "200\n"
          ],
          "name": "stdout"
        }
      ]
    },
    {
      "cell_type": "code",
      "metadata": {
        "id": "xwjSN58cqX7s",
        "colab_type": "code",
        "colab": {}
      },
      "source": [
        "#collapse-hide\n",
        "#Saving requested json in google collab\n",
        "with open('traitors.json', 'wb') as outf:\n",
        "    outf.write(traitors.content)"
      ],
      "execution_count": 0,
      "outputs": []
    },
    {
      "cell_type": "code",
      "metadata": {
        "id": "_VDD_u-Jo8Ss",
        "colab_type": "code",
        "outputId": "83242fad-ac07-48e1-aded-efe1d6066028",
        "colab": {
          "base_uri": "https://localhost:8080/",
          "height": 122
        }
      },
      "source": [
        "#collapse-hide\n",
        "from google.colab import drive\n",
        "drive.mount('/content/gdrive')"
      ],
      "execution_count": 0,
      "outputs": [
        {
          "output_type": "stream",
          "text": [
            "Go to this URL in a browser: https://accounts.google.com/o/oauth2/auth?client_id=947318989803-6bn6qk8qdgf4n4g3pfee6491hc0brc4i.apps.googleusercontent.com&redirect_uri=urn%3aietf%3awg%3aoauth%3a2.0%3aoob&response_type=code&scope=email%20https%3a%2f%2fwww.googleapis.com%2fauth%2fdocs.test%20https%3a%2f%2fwww.googleapis.com%2fauth%2fdrive%20https%3a%2f%2fwww.googleapis.com%2fauth%2fdrive.photos.readonly%20https%3a%2f%2fwww.googleapis.com%2fauth%2fpeopleapi.readonly\n",
            "\n",
            "Enter your authorization code:\n",
            "··········\n",
            "Mounted at /content/gdrive\n"
          ],
          "name": "stdout"
        }
      ]
    },
    {
      "cell_type": "code",
      "metadata": {
        "id": "ScPmCVcEigyX",
        "colab_type": "code",
        "outputId": "9da3a84f-88d3-46f1-f116-12a4c6799b12",
        "colab": {
          "base_uri": "https://localhost:8080/",
          "height": 255
        }
      },
      "source": [
        "df = pd.read_json (r'traitors.json')\n",
        "print(df)"
      ],
      "execution_count": 0,
      "outputs": [
        {
          "output_type": "stream",
          "text": [
            "                        name  ...  landscapeImage\n",
            "0     Real-Time Billionaires  ...             NaN\n",
            "1     Real-Time Billionaires  ...             NaN\n",
            "2     Real-Time Billionaires  ...             NaN\n",
            "3     Real-Time Billionaires  ...             NaN\n",
            "4     Real-Time Billionaires  ...             NaN\n",
            "...                      ...  ...             ...\n",
            "2189  Real-Time Billionaires  ...             NaN\n",
            "2190  Real-Time Billionaires  ...             NaN\n",
            "2191  Real-Time Billionaires  ...             NaN\n",
            "2192  Real-Time Billionaires  ...             NaN\n",
            "2193  Real-Time Billionaires  ...             NaN\n",
            "\n",
            "[2194 rows x 40 columns]\n"
          ],
          "name": "stdout"
        }
      ]
    },
    {
      "cell_type": "code",
      "metadata": {
        "id": "r7dxA87bLQmh",
        "colab_type": "code",
        "colab": {}
      },
      "source": [
        ""
      ],
      "execution_count": 0,
      "outputs": []
    },
    {
      "cell_type": "code",
      "metadata": {
        "id": "wVNLe1D9PAbx",
        "colab_type": "code",
        "colab": {}
      },
      "source": [
        ""
      ],
      "execution_count": 0,
      "outputs": []
    }
  ]
}